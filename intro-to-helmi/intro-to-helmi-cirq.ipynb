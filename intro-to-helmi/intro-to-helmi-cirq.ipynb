{
 "cells": [
  {
   "cell_type": "markdown",
   "metadata": {},
   "source": [
    "# Introduction to Helmi\n",
    "\n",
    "Helmi is a 5 qubit Quantum Computer that is co-developed by [VTT](https://www.vttresearch.com/en/ourservices/quantum-technology) and [IQM](https://www.meetiqm.com/). It uses superconducting transmon qubits in a star shaped topology. Helmi's natives gates consist of the phased-rx and controlled-z gates. This architecture is called **Adonis** by IQM.\n",
    "\n",
    "In this tutorial running on Helmi is demonstrated using the Cirq framework. You can also run on Helmi using [Qiskit](https://qiskit.org/) with the [qiskit-on-iqm](https://github.com/iqm-finland/qiskit-on-iqm) adapter, and this is described in a separate notebook.  \n",
    "\n",
    "Here is Helmi! It is located in Espoo, Finland."
   ]
  },
  {
   "cell_type": "markdown",
   "metadata": {},
   "source": [
    "<div style=\"text-align:center\">\n",
    "<img src=\"images/large_helmi.jpg\" alt=\"alt text\" width=\"900\" height=\"500\" class=\"blog-image\">\n",
    "</div>"
   ]
  },
  {
   "cell_type": "markdown",
   "metadata": {},
   "source": [
    "## Setup\n",
    "\n",
    "This notebook uses the following requirements. \n",
    "\n",
    "```text\n",
    "cirq-iqm==11.13\n",
    "iqm-client==13.0\n",
    "```"
   ]
  },
  {
   "cell_type": "markdown",
   "metadata": {},
   "source": [
    "## Using Helmi with Cirq\n",
    "\n",
    "First we import [cirq-on-iqm](https://github.com/iqm-finland/cirq-on-iqm) which is needed to run on Helmi with cirq. You can read the user guide [here](https://iqm-finland.github.io/cirq-on-iqm/versions/11.9/user_guide.html)."
   ]
  },
  {
   "cell_type": "code",
   "execution_count": null,
   "metadata": {},
   "outputs": [],
   "source": [
    "import cirq\n",
    "from cirq.contrib.svg import SVGCircuit\n",
    "\n",
    "from cirq_iqm.iqm_sampler import IQMSampler\n",
    "from cirq_iqm.optimizers import simplify_circuit\n",
    "import networkx as nx\n",
    "import numpy as np\n",
    "import matplotlib.pyplot as plt"
   ]
  },
  {
   "cell_type": "markdown",
   "metadata": {},
   "source": [
    "Then connection to the backend is simple! For this we point the `IQMSampler` at what is called \"cocos URL\". The cocos url to access Helmi is provided below. "
   ]
  },
  {
   "cell_type": "code",
   "execution_count": null,
   "metadata": {},
   "outputs": [],
   "source": [
    "sampler = IQMSampler(\"https://qc.vtt.fi/cocos\")\n",
    "device = sampler.device"
   ]
  },
  {
   "cell_type": "markdown",
   "metadata": {},
   "source": [
    "Now that we have connected to Helmi, we can query for some information about Helmi!"
   ]
  },
  {
   "cell_type": "code",
   "execution_count": null,
   "metadata": {},
   "outputs": [],
   "source": [
    "print(f'Native operations: {device.metadata.gateset}')\n",
    "print(f'Number of qubits: {device.qubits}')\n",
    "print(f'Coupling map: {device.metadata.nx_graph.edges}')"
   ]
  },
  {
   "cell_type": "markdown",
   "metadata": {},
   "source": [
    "The topology can be visualized with `networkx`. "
   ]
  },
  {
   "cell_type": "code",
   "execution_count": null,
   "metadata": {},
   "outputs": [],
   "source": [
    "G = nx.Graph()\n",
    "G.add_edges_from(device.metadata.nx_graph.edges)\n",
    "node_labels = {node: str(node) for node in G.nodes}\n",
    "nx.draw(G, labels=node_labels, node_color='skyblue', node_size=500, font_size=10, with_labels=True)"
   ]
  },
  {
   "cell_type": "markdown",
   "metadata": {},
   "source": [
    "### Constructing and executing quantum circuits\n",
    "\n",
    "Circuits are constructed in Cirq by decomposing and routing them for the target topology. Additionally, you can run some simple optimization routines to get better peformance for your circuit. "
   ]
  },
  {
   "cell_type": "code",
   "execution_count": null,
   "metadata": {},
   "outputs": [],
   "source": [
    "q1, q2 = cirq.NamedQubit('Alice'), cirq.NamedQubit('Bob')\n",
    "circuit = cirq.Circuit()\n",
    "circuit.append(cirq.H(q1))\n",
    "circuit.append(cirq.CNOT(q1, q2))\n",
    "circuit.append(cirq.measure(q1, q2, key='m'))\n",
    "\n",
    "SVGCircuit(circuit)"
   ]
  },
  {
   "cell_type": "markdown",
   "metadata": {},
   "source": [
    "First we'll transpile the circuit into Helmi's native gates"
   ]
  },
  {
   "cell_type": "code",
   "execution_count": null,
   "metadata": {},
   "outputs": [],
   "source": [
    "decomposed_circuit = device.decompose_circuit(circuit)\n",
    "SVGCircuit(decomposed_circuit)"
   ]
  },
  {
   "cell_type": "markdown",
   "metadata": {},
   "source": [
    "Then we route the circuit based on Helmi's topology"
   ]
  },
  {
   "cell_type": "code",
   "execution_count": null,
   "metadata": {},
   "outputs": [],
   "source": [
    "routed_circuit, initial_mapping, final_mapping = device.route_circuit(decomposed_circuit)\n",
    "SVGCircuit(routed_circuit)"
   ]
  },
  {
   "cell_type": "markdown",
   "metadata": {},
   "source": [
    "By printing the initial mapping we can see how the qubit names have been translated into the names on the qubits physically on Helmi and how the original qubit names were routed onto the device. "
   ]
  },
  {
   "cell_type": "code",
   "execution_count": null,
   "metadata": {},
   "outputs": [],
   "source": [
    "print(initial_mapping)"
   ]
  },
  {
   "cell_type": "markdown",
   "metadata": {},
   "source": [
    "This circuit can be executed on Helmi, but as an additional step we can simplify the circuit, using [cirq-on-iqm's built in optimizers](https://github.com/iqm-finland/cirq-on-iqm/blob/main/src/iqm/cirq_iqm/optimizers.py). "
   ]
  },
  {
   "cell_type": "code",
   "execution_count": null,
   "metadata": {},
   "outputs": [],
   "source": [
    "simplified_circuit = simplify_circuit(routed_circuit)\n",
    "SVGCircuit(simplified_circuit)"
   ]
  },
  {
   "cell_type": "markdown",
   "metadata": {},
   "source": [
    "The circuits can then be executed by calling `sampler.run`. Additionally, a folding function can be passed to process the sampled measurement results and convert the results into a format suitable for plotting for example. "
   ]
  },
  {
   "cell_type": "code",
   "execution_count": null,
   "metadata": {},
   "outputs": [],
   "source": [
    "def fold_func(x: np.ndarray) -> str:\n",
    "    \"\"\"Fold the measured bit arrays into strings.\"\"\"\n",
    "    return ''.join(map(lambda x: chr(x + ord('0')), x))\n",
    "\n",
    "result = sampler.run(simplified_circuit, repetitions=100)\n",
    "# print(result.measurements['m'])\n",
    "print(result.histogram(key='m', fold_func=fold_func))"
   ]
  },
  {
   "cell_type": "markdown",
   "metadata": {},
   "source": [
    "A histogram of the results can be plotted using [`plot_state_histogram`](https://quantumai.google/cirq/simulate/state_histograms). "
   ]
  },
  {
   "cell_type": "code",
   "execution_count": null,
   "metadata": {},
   "outputs": [],
   "source": [
    "def binary_labels(num_qubits):\n",
    "    return [bin(x)[2:].zfill(num_qubits) for x in range(2 ** num_qubits)]\n",
    "\n",
    "\n",
    "cirq.plot_state_histogram(result, plt.subplot(), tick_label=binary_labels(2))"
   ]
  },
  {
   "cell_type": "markdown",
   "metadata": {},
   "source": [
    "Additional metadata about the executed job can also be found."
   ]
  },
  {
   "cell_type": "code",
   "execution_count": null,
   "metadata": {},
   "outputs": [],
   "source": [
    "print(\"Job ID: \", result.metadata.job_id)  # Retrieving the submitted job id\n",
    "print(\"Calibration Set ID: \", result.metadata.calibration_set_id)  # Retrieving the current calibration set id. "
   ]
  },
  {
   "cell_type": "markdown",
   "metadata": {},
   "source": [
    "### Batch execution\n",
    "\n",
    "Helmi also allows for batches of circuits to be submitted with 1 call to the quantum computer. A batch is simply a list of circuits. This is often faster than executing circuits individually, however, circuits will still be executed sequentially. On Helmi currently you can only place a maximum of 20 circuits in one batch. All circuits in a batch are executed with the same number of shots. The maximum number of shots per circuit is 100,000. \n",
    "\n",
    "With cirq this is implemented via the `run_iqm_batch` method of `sampler`.\n",
    "\n",
    "Batch submission of circuits allows parameterized circuits to be executed using the [`cirq-resolve_parameters`](https://quantumai.google/reference/python/cirq/resolve_parameters) function."
   ]
  },
  {
   "cell_type": "code",
   "execution_count": null,
   "metadata": {},
   "outputs": [],
   "source": [
    "circuit_list = []\n",
    "\n",
    "q1, q2 = cirq.NamedQubit('Alice'), cirq.NamedQubit('Bob')\n",
    "circuit_1 = cirq.Circuit()\n",
    "circuit_1.append(cirq.H(q1))\n",
    "circuit_1.append(cirq.CNOT(q1, q2))\n",
    "circuit_1.append(cirq.measure(q1, q2, key='m'))\n",
    "\n",
    "SVGCircuit(circuit_1)\n",
    "\n",
    "circuit_2 = cirq.Circuit()\n",
    "circuit_2.append(cirq.H(q1))\n",
    "circuit_2.append(cirq.CNOT(q2, q1))\n",
    "circuit_2.append(cirq.measure(q1, q2, key='m'))\n",
    "\n",
    "SVGCircuit(circuit_2)\n",
    "\n",
    "routed_circuit_1, _, _ = device.route_circuit(device.decompose_circuit(circuit_1))\n",
    "routed_circuit_2, _, _ = device.route_circuit(device.decompose_circuit(circuit_2))\n",
    "\n",
    "circuit_list.append(routed_circuit_1)\n",
    "circuit_list.append(routed_circuit_2)\n",
    "\n",
    "results = sampler.run_iqm_batch(circuit_list, repetitions=10)\n",
    "\n",
    "for result in results:\n",
    "     print(result.histogram(key=\"m\"))"
   ]
  },
  {
   "cell_type": "markdown",
   "metadata": {},
   "source": [
    "## Summary\n",
    "\n",
    "In this notebook we have demonstrated how to connect and run circuits on Helmi with Cirq using the cirq-on-iqm adapter. "
   ]
  },
  {
   "cell_type": "markdown",
   "metadata": {},
   "source": [
    "## Additional Reading\n",
    "\n",
    "- [Long-distance transmon coupler with CZ gate fidelity above 99.8%](https://arxiv.org/pdf/2208.09460.pdf). Paper by IQM describing the superconducting technology behind Helmi. \n",
    "- [Helmi press release](https://www.vttresearch.com/en/news-and-ideas/finlands-first-5-qubit-quantum-computer-now-operational). \n",
    "- [cirq-on-iqm Github page](https://github.com/iqm-finland/cirq-on-iqm).\n",
    "- [cirq-on-iqm documentation](https://iqm-finland.github.io/cirq-on-iqm/). We are running `11.13`.\n",
    "- [CSC documentation on Helmi](https://docs.csc.fi/computing/quantum-computing/overview/)."
   ]
  }
 ],
 "metadata": {
  "kernelspec": {
   "display_name": "qas2023",
   "language": "python",
   "name": "python3"
  },
  "language_info": {
   "codemirror_mode": {
    "name": "ipython",
    "version": 3
   },
   "file_extension": ".py",
   "mimetype": "text/x-python",
   "name": "python",
   "nbconvert_exporter": "python",
   "pygments_lexer": "ipython3",
   "version": "3.10.13"
  },
  "orig_nbformat": 4
 },
 "nbformat": 4,
 "nbformat_minor": 2
}
